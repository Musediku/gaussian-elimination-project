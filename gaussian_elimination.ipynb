{
 "cells": [
  {
   "cell_type": "code",
   "execution_count": 43,
   "id": "69d05152",
   "metadata": {},
   "outputs": [],
   "source": [
    "#importing neccesary libraries\n",
    "import numpy as np\n",
    "import pandas as pd"
   ]
  },
  {
   "cell_type": "code",
   "execution_count": null,
   "id": "c2efc108",
   "metadata": {},
   "outputs": [],
   "source": [
    "#creating a function that swaps different rows of matrix\n",
    "def swap_rows(M, row_index_1, row_index_2):\n",
    "    #copy the matrix\n",
    "    M = M.copy()\n",
    "    # swap indexes (you use a list of indexes to index rows in Numpy)\n",
    "    M[[row_index_1, row_index_2]] = M[[row_index_2, row_index_1]]\n",
    "    #return the swapped matrices\n",
    "    return M\n",
    "\n",
    "\n"
   ]
  },
  {
   "cell_type": "code",
   "execution_count": 9,
   "id": "d0f8df54",
   "metadata": {},
   "outputs": [
    {
     "name": "stdout",
     "output_type": "stream",
     "text": [
      "[[ 1  3  6]\n",
      " [ 0 -5  2]\n",
      " [-4  5  8]]\n"
     ]
    }
   ],
   "source": [
    "M = np.array([\n",
    "[1, 3, 6],\n",
    "[0, -5, 2],\n",
    "[-4, 5, 8]\n",
    "])\n",
    "print(M)"
   ]
  },
  {
   "cell_type": "code",
   "execution_count": 13,
   "id": "6a94fc82",
   "metadata": {},
   "outputs": [
    {
     "data": {
      "text/plain": [
       "array([[-4,  5,  8],\n",
       "       [ 0, -5,  2],\n",
       "       [ 1,  3,  6]])"
      ]
     },
     "execution_count": 13,
     "metadata": {},
     "output_type": "execute_result"
    }
   ],
   "source": [
    "swap_rows(M,0,2)"
   ]
  },
  {
   "cell_type": "code",
   "execution_count": null,
   "id": "88f82326",
   "metadata": {},
   "outputs": [],
   "source": [
    "\n",
    "def get_index_first_non_zero_from_column(M, column, starting_row):\n",
    "    \"\"\"\n",
    "    Find the index of the first non-zero value in a column from a given starting row.\n",
    "\n",
    "    Parameters:\n",
    "    - M (numpy.array): The matrix to search.\n",
    "    - column (int): The column to search.\n",
    "    - starting_row (int): The row index to start searching from.\n",
    "\n",
    "    Returns:\n",
    "    - int: Index of the first non-zero value in the column, or -1 if none found.\n",
    "    \"\"\"\n",
    "    column_array = M[starting_row:, column]\n",
    "    \n",
    "    for i, val in enumerate(column_array):\n",
    "        if not np.isclose(val, 0, atol=1e-5):\n",
    "            return i + starting_row\n",
    "    return -1\n",
    "\n"
   ]
  },
  {
   "cell_type": "code",
   "execution_count": 16,
   "id": "8390a1e8",
   "metadata": {},
   "outputs": [
    {
     "name": "stdout",
     "output_type": "stream",
     "text": [
      "[[ 0  5 -3  6  8]\n",
      " [ 0  6  3  8  1]\n",
      " [ 0  0  0  0  0]\n",
      " [ 0  0  0  0  7]\n",
      " [ 0  2  1  0  4]]\n"
     ]
    }
   ],
   "source": [
    "N = np.array([\n",
    "[0, 5, -3 ,6 ,8],\n",
    "[0, 6, 3, 8, 1],\n",
    "[0, 0, 0, 0, 0],\n",
    "[0, 0, 0 ,0 ,7],\n",
    "[0, 2, 1, 0, 4]\n",
    "]\n",
    ")\n",
    "print(N)"
   ]
  },
  {
   "cell_type": "code",
   "execution_count": null,
   "id": "53fd378c",
   "metadata": {},
   "outputs": [
    {
     "data": {
      "text/plain": [
       "-1"
      ]
     },
     "execution_count": 19,
     "metadata": {},
     "output_type": "execute_result"
    }
   ],
   "source": [
    "get_index_first_non_zero_from_column(N, column = 0, starting_row = 0)"
   ]
  },
  {
   "cell_type": "code",
   "execution_count": 45,
   "id": "1b8838cf",
   "metadata": {},
   "outputs": [
    {
     "data": {
      "text/plain": [
       "3"
      ]
     },
     "execution_count": 45,
     "metadata": {},
     "output_type": "execute_result"
    }
   ],
   "source": [
    "get_index_first_non_zero_from_column(N, column = -1, starting_row = 2)"
   ]
  },
  {
   "cell_type": "code",
   "execution_count": 46,
   "id": "30b6caa8",
   "metadata": {},
   "outputs": [],
   "source": [
    "def get_index_first_non_zero_from_row(M, row, augmented=False):\n",
    "    \"\"\"\n",
    "    Returns the index of the first non-zero value in a specific row.\n",
    "    \n",
    "    Parameters:\n",
    "    - M (numpy.array): The matrix to search.\n",
    "    - row (int): The row to inspect.\n",
    "    - augmented (bool): If True, ignore the last column (assumed constants).\n",
    "    \n",
    "    Returns:\n",
    "    - int: Index of first non-zero value, or -1 if all are zero.\n",
    "    \"\"\"\n",
    "    M = M.copy()\n",
    "\n",
    "    if augmented:\n",
    "        M = M[:, :-1]  # Remove last column if matrix is augmented\n",
    "\n",
    "    row_array = M[row]  # Get the specific row\n",
    "\n",
    "    for i, val in enumerate(row_array):\n",
    "        if not np.isclose(val, 0, atol=1e-5):\n",
    "            return i\n",
    "\n",
    "    return -1\n",
    "\n"
   ]
  },
  {
   "cell_type": "code",
   "execution_count": 22,
   "id": "f14ab2f0",
   "metadata": {},
   "outputs": [
    {
     "name": "stdout",
     "output_type": "stream",
     "text": [
      "[[ 0  5 -3  6  8]\n",
      " [ 0  6  3  8  1]\n",
      " [ 0  0  0  0  0]\n",
      " [ 0  0  0  0  7]\n",
      " [ 0  2  1  0  4]]\n"
     ]
    }
   ],
   "source": [
    "print(N)"
   ]
  },
  {
   "cell_type": "code",
   "execution_count": 55,
   "id": "a8def03c",
   "metadata": {},
   "outputs": [
    {
     "name": "stdout",
     "output_type": "stream",
     "text": [
      "Output for row 2: -1\n",
      "Output for row 3: 4\n"
     ]
    }
   ],
   "source": [
    "print(f'Output for row 2: {get_index_first_non_zero_from_row(N, 2)}')\n",
    "print(f'Output for row 3: {get_index_first_non_zero_from_row(N, 3)}')"
   ]
  },
  {
   "cell_type": "code",
   "execution_count": 56,
   "id": "df1d9468",
   "metadata": {},
   "outputs": [],
   "source": [
    "def augmented_matrix(A, B):\n",
    "    \"\"\"\n",
    "    Create an augmented matrix by horizontally stacking two matrices A and B.\n",
    "\n",
    "    Parameters:\n",
    "    - A (numpy.array): First matrix.\n",
    "    - B (numpy.array): Second matrix.\n",
    "\n",
    "    Returns:\n",
    "    - numpy.array: Augmented matrix obtained by horizontally stacking A and B.\n",
    "    \"\"\"\n",
    "    augmented_M = np.hstack((A,B))\n",
    "    return augmented_M"
   ]
  },
  {
   "cell_type": "code",
   "execution_count": 57,
   "id": "0add8c8d",
   "metadata": {},
   "outputs": [
    {
     "name": "stdout",
     "output_type": "stream",
     "text": [
      "[[1 2 3 1]\n",
      " [3 4 5 5]\n",
      " [4 5 6 7]]\n"
     ]
    }
   ],
   "source": [
    "A = np.array([[1,2,3], [3,4,5], [4,5,6]])\n",
    "B = np.array([[1], [5], [7]])\n",
    "\n",
    "print(augmented_matrix(A,B))"
   ]
  },
  {
   "cell_type": "code",
   "execution_count": 68,
   "id": "29107fbe",
   "metadata": {},
   "outputs": [],
   "source": [
    "def row_echelon_form(A, B):\n",
    "    # Check for singular matrix\n",
    "    if np.isclose(np.linalg.det(A), 0):\n",
    "        return 'singular system'\n",
    "\n",
    "    # Copy and convert to float\n",
    "    A = A.astype('float64').copy()\n",
    "    B = B.astype('float64').copy()\n",
    "\n",
    "    # Augment the matrix\n",
    "    M = augmented_matrix(A, B)\n",
    "\n",
    "    num_rows = len(A)\n",
    "\n",
    "    for row in range(num_rows):\n",
    "        pivot_candidate = M[row, row]\n",
    "\n",
    "        # If pivot is zero, look below for a row to swap\n",
    "        if np.isclose(pivot_candidate, 0):\n",
    "            swap_row_index = get_index_first_non_zero_from_column(M, row, row + 1)\n",
    "            if swap_row_index == -1:\n",
    "                continue\n",
    "            M = swap_rows(M, row, swap_row_index)\n",
    "            pivot = M[row, row]\n",
    "        else:\n",
    "            pivot = pivot_candidate\n",
    "\n",
    "        # Normalize the pivot row\n",
    "        M[row] = M[row] / pivot\n",
    "\n",
    "        # Eliminate values below the pivot\n",
    "        for j in range(row + 1, num_rows):\n",
    "            value_below_pivot = M[j, row]\n",
    "            M[j] = M[j] - value_below_pivot * M[row]\n",
    "\n",
    "    return M\n",
    "\n",
    "\n",
    "        \n",
    "\n",
    "            "
   ]
  },
  {
   "cell_type": "code",
   "execution_count": 69,
   "id": "3c0f89ba",
   "metadata": {},
   "outputs": [
    {
     "data": {
      "text/plain": [
       "array([[1. , 2. , 3. , 1. ],\n",
       "       [0. , 1. , 0. , 2. ],\n",
       "       [0. , 0. , 1. , 0.8]])"
      ]
     },
     "execution_count": 69,
     "metadata": {},
     "output_type": "execute_result"
    }
   ],
   "source": [
    "A = np.array([[1,2,3],[0,1,0], [0,0,5]])\n",
    "B = np.array([[1], [2], [4]])\n",
    "row_echelon_form(A,B)"
   ]
  },
  {
   "cell_type": "code",
   "execution_count": 70,
   "id": "a5ff2b16",
   "metadata": {},
   "outputs": [],
   "source": [
    "def back_substitution(M):\n",
    "    M = M.copy()\n",
    "    num_rows = M.shape[0]\n",
    "\n",
    "    for row in reversed(range(num_rows)):\n",
    "        substitution_row = M[row]\n",
    "\n",
    "        # Find pivot index in the row (ignore the last column)\n",
    "        index = np.argmax(~np.isclose(substitution_row[:-1], 0))\n",
    "\n",
    "        # Eliminate above\n",
    "        for j in range(row):\n",
    "            row_to_reduce = M[j]\n",
    "            value = row_to_reduce[index]\n",
    "\n",
    "            # Row operation: row_j = row_j - value * row_i\n",
    "            row_to_reduce = row_to_reduce - value * substitution_row\n",
    "\n",
    "            M[j, :] = row_to_reduce\n",
    "\n",
    "    solution = M[:, -1]\n",
    "    return solution\n"
   ]
  },
  {
   "cell_type": "code",
   "execution_count": 71,
   "id": "9d016acb",
   "metadata": {},
   "outputs": [],
   "source": [
    "def gaussian_elimination(A, B):\n",
    "    \"\"\"\n",
    "    Solve a linear system represented by an augmented matrix using the Gaussian elimination method.\n",
    "\n",
    "    Parameters:\n",
    "    - A (numpy.array): Square matrix of size n x n representing the coefficients of the linear system.\n",
    "    - B (numpy.array): Column matrix of size n x 1 representing the constant terms.\n",
    "\n",
    "    Returns:\n",
    "    numpy.array: The solution vector.\n",
    "    \"\"\"\n",
    "\n",
    "    ### START CODE HERE ###\n",
    "\n",
    "    # Get the matrix in row echelon form\n",
    "    row_echelon_M = row_echelon_form(A, B)\n",
    "\n",
    "    # If the system is singular, return the error message\n",
    "    if isinstance(row_echelon_M, str):\n",
    "        return row_echelon_M\n",
    "\n",
    "    # Perform back substitution to get the result\n",
    "    solution = back_substitution(row_echelon_M)\n",
    "\n",
    "    ### END CODE HERE ###\n",
    "\n",
    "    return solution\n"
   ]
  },
  {
   "cell_type": "code",
   "execution_count": 72,
   "id": "2c93b37d",
   "metadata": {},
   "outputs": [
    {
     "name": "stdout",
     "output_type": "stream",
     "text": [
      "[ 2.  3. -1.]\n"
     ]
    }
   ],
   "source": [
    "A = np.array([\n",
    "    [2, 1, -1],\n",
    "    [-3, -1, 2],\n",
    "    [-2, 1, 2]\n",
    "])\n",
    "B = np.array([\n",
    "    [8],\n",
    "    [-11],\n",
    "    [-3]\n",
    "])\n",
    "solution = gaussian_elimination(A, B)\n",
    "print(solution)"
   ]
  },
  {
   "cell_type": "code",
   "execution_count": null,
   "id": "b0acf88f",
   "metadata": {},
   "outputs": [],
   "source": []
  },
  {
   "cell_type": "code",
   "execution_count": null,
   "id": "972c0af1",
   "metadata": {},
   "outputs": [],
   "source": []
  },
  {
   "cell_type": "code",
   "execution_count": null,
   "id": "b81cb190",
   "metadata": {},
   "outputs": [],
   "source": []
  },
  {
   "cell_type": "code",
   "execution_count": null,
   "id": "635fca49",
   "metadata": {},
   "outputs": [],
   "source": []
  }
 ],
 "metadata": {
  "kernelspec": {
   "display_name": ".venv",
   "language": "python",
   "name": "python3"
  },
  "language_info": {
   "codemirror_mode": {
    "name": "ipython",
    "version": 3
   },
   "file_extension": ".py",
   "mimetype": "text/x-python",
   "name": "python",
   "nbconvert_exporter": "python",
   "pygments_lexer": "ipython3",
   "version": "3.13.5"
  }
 },
 "nbformat": 4,
 "nbformat_minor": 5
}
