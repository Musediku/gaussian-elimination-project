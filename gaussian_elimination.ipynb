{
 "cells": [
  {
   "cell_type": "markdown",
   "id": "1d2a3a50",
   "metadata": {},
   "source": [
    "# Gaussian Elimination Solver in Python\n",
    "\n",
    "Welcome\n",
    "\n",
    "This notebook explains how I implemented Gaussian Elimination from scratch using NumPy to solve systems of linear equations of the form:\n",
    "\n",
    "AX = B\n",
    "\n",
    "Instead of using built-in solvers, I wrote custom functions step by step to:\n",
    "\n",
    "- Convert the system into Row Echelon Form (REF)  \n",
    "- Perform Back Substitution to solve for the variables  \n",
    "- Combine everything into one complete `gaussian_elimination()` solver\n",
    "\n",
    "This gave me a better understanding of what really happens behind the scenes when solving equations using matrices.\n",
    "\n",
    "---\n",
    "\n",
    "## What You Will Learn in This Notebook\n",
    "\n",
    "This notebook walks through the logic and code for:\n",
    "\n",
    "- `swap_rows()` – swaps two rows in a matrix  \n",
    "- `get_index_first_non_zero_from_column()` – finds the first non-zero value in a column starting from a given row  \n",
    "- `augmented_matrix()` – builds the augmented matrix [A | B]  \n",
    "- `row_echelon_form()` – reduces the augmented matrix to Row Echelon Form  \n",
    "- `back_substitution()` – performs back substitution to find the final variable values  \n",
    "- `gaussian_elimination()` – ties everything together to solve the full system\n",
    "\n",
    "---\n",
    "\n",
    "## Why I Built This\n",
    "\n",
    "Instead of calling `np.linalg.solve` and getting an instant result, I wanted to understand each step in the process. This notebook shows how I built up the solution by writing the row operations myself.\n",
    "\n",
    "Let us get started and solve some linear systems step by step.\n"
   ]
  },
  {
   "cell_type": "code",
   "execution_count": 43,
   "id": "69d05152",
   "metadata": {},
   "outputs": [],
   "source": [
    "#importing neccesary libraries\n",
    "import numpy as np\n",
    "import pandas as pd"
   ]
  },
  {
   "cell_type": "markdown",
   "id": "ca60394d",
   "metadata": {},
   "source": [
    "### Swap Rows: `swap_rows(M, row_index_1, row_index_2)`\n",
    "\n",
    "In Gaussian elimination, we often need to **swap rows** to bring a non-zero pivot into the current working row. This helper function makes it easy to exchange two rows of a NumPy matrix using advanced indexing.\n",
    "\n",
    "By using `swap_rows()`, we ensure that our algorithm remains **modular**, **reusable**, and avoids in-place side effects (since it returns a copy of the modified matrix).\n",
    "\n",
    "Use this whenever:\n",
    "- The pivot element is zero and needs to be replaced\n",
    "- You need to reorder rows for better numerical stability\n",
    "- You want to test matrix manipulation techniques\n"
   ]
  },
  {
   "cell_type": "code",
   "execution_count": null,
   "id": "c2efc108",
   "metadata": {},
   "outputs": [],
   "source": [
    "#creating a function that swaps different rows of matrix\n",
    "def swap_rows(M, row_index_1, row_index_2):\n",
    "    #copy the matrix\n",
    "    M = M.copy()\n",
    "    # swap indexes (you use a list of indexes to index rows in Numpy)\n",
    "    M[[row_index_1, row_index_2]] = M[[row_index_2, row_index_1]]\n",
    "    #return the swapped matrices\n",
    "    return M\n",
    "\n",
    "\n"
   ]
  },
  {
   "cell_type": "markdown",
   "id": "17ae96ae",
   "metadata": {},
   "source": [
    "### Test case Swap Rows Function"
   ]
  },
  {
   "cell_type": "code",
   "execution_count": 9,
   "id": "d0f8df54",
   "metadata": {},
   "outputs": [
    {
     "name": "stdout",
     "output_type": "stream",
     "text": [
      "[[ 1  3  6]\n",
      " [ 0 -5  2]\n",
      " [-4  5  8]]\n"
     ]
    }
   ],
   "source": [
    "M = np.array([\n",
    "[1, 3, 6],\n",
    "[0, -5, 2],\n",
    "[-4, 5, 8]\n",
    "])\n",
    "print(M)"
   ]
  },
  {
   "cell_type": "code",
   "execution_count": 13,
   "id": "6a94fc82",
   "metadata": {},
   "outputs": [
    {
     "data": {
      "text/plain": [
       "array([[-4,  5,  8],\n",
       "       [ 0, -5,  2],\n",
       "       [ 1,  3,  6]])"
      ]
     },
     "execution_count": 13,
     "metadata": {},
     "output_type": "execute_result"
    }
   ],
   "source": [
    "swap_rows(M,0,2)"
   ]
  },
  {
   "cell_type": "markdown",
   "id": "a2c410cb",
   "metadata": {},
   "source": [
    "##  Get_index_first_non_zero_from_column(M, column, starting_row)\n",
    "\n",
    "This helper function returns the index of the **first non-zero element** in a given column of a matrix, starting from a specific row downward.\n",
    "\n",
    "### Parameters:\n",
    "- `M` (*numpy.array*): The matrix to search through.\n",
    "- `column` (*int*): The index of the column to look at.\n",
    "- `starting_row` (*int*): The row index to start checking from (ignores rows above this).\n",
    "\n",
    "### Returns:\n",
    "- An integer: the **row index** of the first non-zero element found from `starting_row` downwards.\n",
    "- If **no non-zero element** is found in that column, it returns `-1`.\n",
    "\n",
    "### Notes:\n",
    "- Uses `np.isclose` instead of `val == 0` to avoid floating-point errors when comparing with zero.\n",
    "\n",
    "### Example:\n",
    "```python\n",
    "M = np.array([\n",
    "    [0, 0, 0],\n",
    "    [0, 5, 0],\n",
    "    [0, 0, 9]\n",
    "])\n",
    "\n",
    "get_index_first_non_zero_from_column(M, column=1, starting_row=0)\n",
    "# Output: 1\n"
   ]
  },
  {
   "cell_type": "code",
   "execution_count": 75,
   "id": "88f82326",
   "metadata": {},
   "outputs": [],
   "source": [
    "\n",
    "def get_index_first_non_zero_from_column(M, column, starting_row):\n",
    "    \"\"\"\n",
    "    Find the index of the first non-zero value in a column from a given starting row.\n",
    "\n",
    "    Parameters:\n",
    "    - M (numpy.array): The matrix to search.\n",
    "    - column (int): The column to search.\n",
    "    - starting_row (int): The row index to start searching from.\n",
    "\n",
    "    Returns:\n",
    "    - int: Index of the first non-zero value in the column, or -1 if none found.\n",
    "    \"\"\"\n",
    "    column_array = M[starting_row:, column]\n",
    "    \n",
    "    for i, val in enumerate(column_array):\n",
    "        if not np.isclose(val, 0, atol=1e-5):\n",
    "            return i + starting_row\n",
    "    return -1\n",
    "\n"
   ]
  },
  {
   "cell_type": "code",
   "execution_count": 76,
   "id": "8390a1e8",
   "metadata": {},
   "outputs": [
    {
     "name": "stdout",
     "output_type": "stream",
     "text": [
      "[[ 0  5 -3  6  8]\n",
      " [ 0  6  3  8  1]\n",
      " [ 0  0  0  0  0]\n",
      " [ 0  0  0  0  7]\n",
      " [ 0  2  1  0  4]]\n"
     ]
    }
   ],
   "source": [
    "N = np.array([\n",
    "[0, 5, -3 ,6 ,8],\n",
    "[0, 6, 3, 8, 1],\n",
    "[0, 0, 0, 0, 0],\n",
    "[0, 0, 0 ,0 ,7],\n",
    "[0, 2, 1, 0, 4]\n",
    "]\n",
    ")\n",
    "print(N)"
   ]
  },
  {
   "cell_type": "code",
   "execution_count": 77,
   "id": "53fd378c",
   "metadata": {},
   "outputs": [
    {
     "data": {
      "text/plain": [
       "-1"
      ]
     },
     "execution_count": 77,
     "metadata": {},
     "output_type": "execute_result"
    }
   ],
   "source": [
    "get_index_first_non_zero_from_column(N, column = 0, starting_row = 0)"
   ]
  },
  {
   "cell_type": "code",
   "execution_count": 78,
   "id": "1b8838cf",
   "metadata": {},
   "outputs": [
    {
     "data": {
      "text/plain": [
       "3"
      ]
     },
     "execution_count": 78,
     "metadata": {},
     "output_type": "execute_result"
    }
   ],
   "source": [
    "get_index_first_non_zero_from_column(N, column = -1, starting_row = 2)"
   ]
  },
  {
   "cell_type": "markdown",
   "id": "7d7df570",
   "metadata": {},
   "source": [
    "## Get_index_first_non_zero_from_row(M, row, augmented=False)\n",
    "\n",
    "This helper function returns the **index of the first non-zero element** in a specified row of a matrix.\n",
    "\n",
    "### Parameters:\n",
    "- `M` (*numpy.array*): The matrix to inspect.\n",
    "- `row` (*int*): The row index to check.\n",
    "- `augmented` (*bool*, optional): If `True`, the function ignores the **last column** (useful when working with augmented matrices like `[A | B]`).\n",
    "\n",
    "### Returns:\n",
    "- An **integer**: the index of the first non-zero value in the row.\n",
    "- If the row contains **only zeros**, returns `-1`.\n",
    "\n",
    "### Notes:\n",
    "- The function uses `np.isclose(val, 0)` instead of direct comparison (`val == 0`) to avoid floating-point inaccuracies.\n",
    "- This is useful in Gaussian Elimination when identifying pivot positions in rows.\n",
    "\n",
    "### Example:\n",
    "```python\n",
    "M = np.array([\n",
    "    [0, 0, 0],\n",
    "    [0, 0, 3],\n",
    "    [1, 2, 0]\n",
    "])\n",
    "\n",
    "get_index_first_non_zero_from_row(M, row=1)\n",
    "# Output: 2\n"
   ]
  },
  {
   "cell_type": "code",
   "execution_count": null,
   "id": "30b6caa8",
   "metadata": {},
   "outputs": [],
   "source": [
    "def get_index_first_non_zero_from_row(M, row, augmented=False):\n",
    "    \"\"\"\n",
    "    Returns the index of the first non-zero value in a specific row.\n",
    "    \n",
    "    Parameters:\n",
    "    - M (numpy.array): The matrix to search.\n",
    "    - row (int): The row to inspect.\n",
    "    - augmented (bool): If True, ignore the last column (assumed constants).\n",
    "\n",
    "    Returns:\n",
    "    - int: Index of first non-zero value, or -1 if all are zero.\n",
    "    \"\"\"\n",
    "    M = M.copy()\n",
    "\n",
    "    if augmented:\n",
    "        M = M[:, :-1]  # Remove last column if matrix is augmented\n",
    "\n",
    "    row_array = M[row]  # Get the specific row\n",
    "\n",
    "    for i, val in enumerate(row_array):\n",
    "        if not np.isclose(val, 0, atol=1e-5):\n",
    "            return i\n",
    "\n",
    "    return -1\n",
    "\n"
   ]
  },
  {
   "cell_type": "code",
   "execution_count": 22,
   "id": "f14ab2f0",
   "metadata": {},
   "outputs": [
    {
     "name": "stdout",
     "output_type": "stream",
     "text": [
      "[[ 0  5 -3  6  8]\n",
      " [ 0  6  3  8  1]\n",
      " [ 0  0  0  0  0]\n",
      " [ 0  0  0  0  7]\n",
      " [ 0  2  1  0  4]]\n"
     ]
    }
   ],
   "source": [
    "print(N)"
   ]
  },
  {
   "cell_type": "code",
   "execution_count": 55,
   "id": "a8def03c",
   "metadata": {},
   "outputs": [
    {
     "name": "stdout",
     "output_type": "stream",
     "text": [
      "Output for row 2: -1\n",
      "Output for row 3: 4\n"
     ]
    }
   ],
   "source": [
    "print(f'Output for row 2: {get_index_first_non_zero_from_row(N, 2)}')\n",
    "print(f'Output for row 3: {get_index_first_non_zero_from_row(N, 3)}')"
   ]
  },
  {
   "cell_type": "markdown",
   "id": "c2fc9467",
   "metadata": {},
   "source": [
    "##  Augmented_matrix(A, B)\n",
    "\n",
    "This function creates an **augmented matrix** by **horizontally stacking** the coefficient matrix `A` with the constants matrix `B`.\n",
    "\n",
    "### Parameters:\n",
    "- `A` (*numpy.array*): The coefficient matrix (usually of shape *n × n*).\n",
    "- `B` (*numpy.array*): The constants column vector (usually of shape *n × 1*).\n",
    "\n",
    "### Returns:\n",
    "- A new matrix `[A | B]`, obtained by horizontally stacking `A` and `B` using `np.hstack()`.\n",
    "\n",
    "### Example:\n",
    "```python\n",
    "A = np.array([[1, 2], [3, 4]])\n",
    "B = np.array([[5], [6]])\n",
    "\n",
    "augmented_matrix(A, B)\n",
    "# Output:\n",
    "# array([[1, 2, 5],\n",
    "#        [3, 4, 6]])\n"
   ]
  },
  {
   "cell_type": "code",
   "execution_count": 56,
   "id": "df1d9468",
   "metadata": {},
   "outputs": [],
   "source": [
    "def augmented_matrix(A, B):\n",
    "    \"\"\"\n",
    "    Create an augmented matrix by horizontally stacking two matrices A and B.\n",
    "\n",
    "    Parameters:\n",
    "    - A (numpy.array): First matrix.\n",
    "    - B (numpy.array): Second matrix.\n",
    "\n",
    "    Returns:\n",
    "    - numpy.array: Augmented matrix obtained by horizontally stacking A and B.\n",
    "    \"\"\"\n",
    "    augmented_M = np.hstack((A,B))\n",
    "    return augmented_M"
   ]
  },
  {
   "cell_type": "code",
   "execution_count": 57,
   "id": "0add8c8d",
   "metadata": {},
   "outputs": [
    {
     "name": "stdout",
     "output_type": "stream",
     "text": [
      "[[1 2 3 1]\n",
      " [3 4 5 5]\n",
      " [4 5 6 7]]\n"
     ]
    }
   ],
   "source": [
    "A = np.array([[1,2,3], [3,4,5], [4,5,6]])\n",
    "B = np.array([[1], [5], [7]])\n",
    "\n",
    "print(augmented_matrix(A,B))"
   ]
  },
  {
   "cell_type": "markdown",
   "id": "a8da7a75",
   "metadata": {},
   "source": [
    "## Row_echelon_form(A, B)\n",
    "\n",
    "This function performs **Gaussian Elimination** to reduce the augmented matrix `[A | B]` into **Row Echelon Form (REF)**.\n",
    "\n",
    "### What it Does:\n",
    "- Checks if the system is **singular** (i.e. no unique solution).\n",
    "- Augments the matrix `[A | B]`.\n",
    "- Iteratively eliminates values below each pivot to form upper triangular structure.\n",
    "- Ensures **pivot normalization** (each pivot becomes 1).\n",
    "- Swaps rows if the current pivot is zero to maintain numerical stability.\n",
    "\n",
    "### Parameters:\n",
    "- `A` (*numpy.array*): Square coefficient matrix (*n × n*).\n",
    "- `B` (*numpy.array*): Constants column vector (*n × 1*).\n",
    "\n",
    "###  Returns:\n",
    "- The augmented matrix `[A | B]` in **Row Echelon Form**.\n",
    "- If the system is singular, returns the string `'singular system'`.\n",
    "\n",
    "### Example:\n",
    "```python\n",
    "A = np.array([[2, 1, -1],\n",
    "              [-3, -1, 2],\n",
    "              [-2, 1, 2]])\n",
    "B = np.array([[8], [-11], [-3]])\n",
    "\n",
    "row_echelon_form(A, B)\n",
    "# Output (REF):\n",
    "# array([[ 1.,  0.5, -0.5,  4. ],\n",
    "#        [ 0.,  1., -1.,  1. ],\n",
    "#        [ 0.,  0.,  1., -2.]])\n"
   ]
  },
  {
   "cell_type": "code",
   "execution_count": null,
   "id": "29107fbe",
   "metadata": {},
   "outputs": [],
   "source": [
    "def row_echelon_form(A, B):\n",
    "    # Check for singular matrix\n",
    "    if np.isclose(np.linalg.det(A), 0):\n",
    "        return 'singular system'\n",
    "\n",
    "    # Copy and convert to float\n",
    "    A = A.astype('float64').copy()\n",
    "    B = B.astype('float64').copy()\n",
    "\n",
    "    # Augment the matrix\n",
    "    M = augmented_matrix(A, B)\n",
    "\n",
    "    num_rows = len(A)\n",
    "\n",
    "    for row in range(num_rows):\n",
    "        pivot_candidate = M[row, row]\n",
    "\n",
    "        # If pivot is zero, look below for a row to swap\n",
    "        if np.isclose(pivot_candidate, 0):\n",
    "            swap_row_index = get_index_first_non_zero_from_column(M, row, row + 1)\n",
    "            if swap_row_index == -1:\n",
    "                continue\n",
    "            M = swap_rows(M, row, swap_row_index)\n",
    "            pivot = M[row, row]\n",
    "        else:\n",
    "            pivot = pivot_candidate\n",
    "\n",
    "        # Normalize the pivot row\n",
    "        M[row] = M[row] / pivot\n",
    "\n",
    "        # Eliminate values below the pivot\n",
    "        for j in range(row + 1, num_rows):\n",
    "            value_below_pivot = M[j, row]\n",
    "            M[j] = M[j] - value_below_pivot * M[row]\n",
    "\n",
    "    return M\n",
    "\n",
    "\n",
    "        \n",
    "\n",
    "            "
   ]
  },
  {
   "cell_type": "code",
   "execution_count": 69,
   "id": "3c0f89ba",
   "metadata": {},
   "outputs": [
    {
     "data": {
      "text/plain": [
       "array([[1. , 2. , 3. , 1. ],\n",
       "       [0. , 1. , 0. , 2. ],\n",
       "       [0. , 0. , 1. , 0.8]])"
      ]
     },
     "execution_count": 69,
     "metadata": {},
     "output_type": "execute_result"
    }
   ],
   "source": [
    "A = np.array([[1,2,3],[0,1,0], [0,0,5]])\n",
    "B = np.array([[1], [2], [4]])\n",
    "row_echelon_form(A,B)"
   ]
  },
  {
   "cell_type": "markdown",
   "id": "a81260c2",
   "metadata": {},
   "source": [
    "### Back Substitution\n",
    "\n",
    "Once the augmented matrix has been transformed into **Row Echelon Form (REF)** using Gaussian Elimination, we use **back substitution** to compute the values of the unknown variables.\n",
    "\n",
    "This function starts from the bottom row and works upward, eliminating the known variables from the equations above.\n",
    "\n",
    "**What it does:**\n",
    "- Assumes the matrix is in REF with leading 1s (unit pivots).\n",
    "- Finds the pivot (first non-zero) in each row.\n",
    "- Eliminates the corresponding variable from all rows above.\n",
    "- Extracts the final solution vector from the last column of the matrix.\n",
    "\n",
    "This is the final step to solving a linear system using Gaussian Elimination."
   ]
  },
  {
   "cell_type": "markdown",
   "id": "bf678af1",
   "metadata": {},
   "source": [
    "## Gaussian_elimination(A, B)\n",
    "\n",
    "This is the main function that solves a system of linear equations using the **Gaussian Elimination** method.\n",
    "\n",
    "### What It Does:\n",
    "1. Combines all the steps of Gaussian elimination.\n",
    "2. First converts the coefficient matrix into **Row Echelon Form (REF)**.\n",
    "3. Then applies **back substitution** to find the solution vector.\n",
    "\n",
    "### Parameters:\n",
    "- A: A square matrix (n x n) containing the coefficients of the system.\n",
    "- B: A column matrix (n x 1) containing the constants.\n",
    "\n",
    "### Returns:\n",
    "- A 1D numpy array with the values of the solution.\n",
    "- If the matrix is singular (i.e., has no unique solution), it returns the message `'singular system'`.\n",
    "\n",
    "### Example:\n",
    "```python\n",
    "A = np.array([\n",
    "    [2, 1, -1],\n",
    "    [-3, -1, 2],\n",
    "    [-2, 1, 2]\n",
    "])\n",
    "B = np.array([\n",
    "    [8],\n",
    "    [-11],\n",
    "    [-3]\n",
    "])\n",
    "\n",
    "solution = gaussian_elimination(A, B)\n",
    "print(solution)\n",
    "# Output: [2. 3. -1.]\n"
   ]
  },
  {
   "cell_type": "code",
   "execution_count": 71,
   "id": "9d016acb",
   "metadata": {},
   "outputs": [],
   "source": [
    "def gaussian_elimination(A, B):\n",
    "    \"\"\"\n",
    "    Solve a linear system represented by an augmented matrix using the Gaussian elimination method.\n",
    "\n",
    "    Parameters:\n",
    "    - A (numpy.array): Square matrix of size n x n representing the coefficients of the linear system.\n",
    "    - B (numpy.array): Column matrix of size n x 1 representing the constant terms.\n",
    "\n",
    "    Returns:\n",
    "    numpy.array: The solution vector.\n",
    "    \"\"\"\n",
    "\n",
    "    ### START CODE HERE ###\n",
    "\n",
    "    # Get the matrix in row echelon form\n",
    "    row_echelon_M = row_echelon_form(A, B)\n",
    "\n",
    "    # If the system is singular, return the error message\n",
    "    if isinstance(row_echelon_M, str):\n",
    "        return row_echelon_M\n",
    "\n",
    "    # Perform back substitution to get the result\n",
    "    solution = back_substitution(row_echelon_M)\n",
    "\n",
    "    ### END CODE HERE ###\n",
    "\n",
    "    return solution\n"
   ]
  },
  {
   "cell_type": "markdown",
   "id": "27b4dc79",
   "metadata": {},
   "source": [
    "### Example: Solving a System of Equations using Gaussian Elimination\n",
    "\n",
    "We want to solve the system of equations:\n",
    "\n"
   ]
  },
  {
   "cell_type": "code",
   "execution_count": 74,
   "id": "2c93b37d",
   "metadata": {},
   "outputs": [
    {
     "name": "stdout",
     "output_type": "stream",
     "text": [
      "[ 2.  3. -1.]\n"
     ]
    }
   ],
   "source": [
    "A = np.array([\n",
    "    [2, 1, -1],\n",
    "    [-3, -1, 2],\n",
    "    [-2, 1, 2]\n",
    "])\n",
    "B = np.array([\n",
    "    [8],\n",
    "    [-11],\n",
    "    [-3]\n",
    "])\n",
    "solution = gaussian_elimination(A, B)\n",
    "print(solution)"
   ]
  }
 ],
 "metadata": {
  "kernelspec": {
   "display_name": ".venv",
   "language": "python",
   "name": "python3"
  },
  "language_info": {
   "codemirror_mode": {
    "name": "ipython",
    "version": 3
   },
   "file_extension": ".py",
   "mimetype": "text/x-python",
   "name": "python",
   "nbconvert_exporter": "python",
   "pygments_lexer": "ipython3",
   "version": "3.13.5"
  }
 },
 "nbformat": 4,
 "nbformat_minor": 5
}
