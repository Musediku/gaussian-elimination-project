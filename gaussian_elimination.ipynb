{
 "cells": [
  {
   "cell_type": "code",
   "execution_count": 8,
   "id": "69d05152",
   "metadata": {},
   "outputs": [],
   "source": [
    "#importing neccesary libraries\n",
    "import numpy as np\n",
    "import pandas as pd\n"
   ]
  },
  {
   "cell_type": "code",
   "execution_count": null,
   "id": "c2efc108",
   "metadata": {},
   "outputs": [],
   "source": [
    "#creating a function that swaps different rows of matrix\n",
    "def swap_rows(M, row_index_1, row_index_2):\n",
    "    #copy the matrix\n",
    "    M = M.copy()\n",
    "    # swap indexes (you use a list of indexes to index rows in Numpy)\n",
    "    M[[row_index_1, row_index_2]] = M[[row_index_2, row_index_1]]\n",
    "    #return the swapped matrices\n",
    "    return M\n",
    "\n",
    "\n"
   ]
  },
  {
   "cell_type": "code",
   "execution_count": 9,
   "id": "d0f8df54",
   "metadata": {},
   "outputs": [
    {
     "name": "stdout",
     "output_type": "stream",
     "text": [
      "[[ 1  3  6]\n",
      " [ 0 -5  2]\n",
      " [-4  5  8]]\n"
     ]
    }
   ],
   "source": [
    "M = np.array([\n",
    "[1, 3, 6],\n",
    "[0, -5, 2],\n",
    "[-4, 5, 8]\n",
    "])\n",
    "print(M)"
   ]
  },
  {
   "cell_type": "code",
   "execution_count": 13,
   "id": "6a94fc82",
   "metadata": {},
   "outputs": [
    {
     "data": {
      "text/plain": [
       "array([[-4,  5,  8],\n",
       "       [ 0, -5,  2],\n",
       "       [ 1,  3,  6]])"
      ]
     },
     "execution_count": 13,
     "metadata": {},
     "output_type": "execute_result"
    }
   ],
   "source": [
    "swap_rows(M,0,2)"
   ]
  },
  {
   "cell_type": "code",
   "execution_count": 18,
   "id": "88f82326",
   "metadata": {},
   "outputs": [],
   "source": [
    "def getting_first_non_zero_from_column(M,column,starting_row):\n",
    "\n",
    "    Arrays = M[starting_row:, column]\n",
    "    \n",
    "    for i, val in enumerate(Arrays):\n",
    "        if not np.isclose(val, 0, atol = 1e-5):\n",
    "            index = i + starting_row\n",
    "            return index\n",
    "    return -1\n"
   ]
  },
  {
   "cell_type": "code",
   "execution_count": 16,
   "id": "8390a1e8",
   "metadata": {},
   "outputs": [
    {
     "name": "stdout",
     "output_type": "stream",
     "text": [
      "[[ 0  5 -3  6  8]\n",
      " [ 0  6  3  8  1]\n",
      " [ 0  0  0  0  0]\n",
      " [ 0  0  0  0  7]\n",
      " [ 0  2  1  0  4]]\n"
     ]
    }
   ],
   "source": [
    "N = np.array([\n",
    "[0, 5, -3 ,6 ,8],\n",
    "[0, 6, 3, 8, 1],\n",
    "[0, 0, 0, 0, 0],\n",
    "[0, 0, 0 ,0 ,7],\n",
    "[0, 2, 1, 0, 4]\n",
    "]\n",
    ")\n",
    "print(N)"
   ]
  },
  {
   "cell_type": "code",
   "execution_count": 19,
   "id": "53fd378c",
   "metadata": {},
   "outputs": [
    {
     "data": {
      "text/plain": [
       "-1"
      ]
     },
     "execution_count": 19,
     "metadata": {},
     "output_type": "execute_result"
    }
   ],
   "source": [
    "getting_first_non_zero_from_column(N, column = 0, starting_row = 0)"
   ]
  },
  {
   "cell_type": "code",
   "execution_count": 20,
   "id": "1b8838cf",
   "metadata": {},
   "outputs": [
    {
     "data": {
      "text/plain": [
       "3"
      ]
     },
     "execution_count": 20,
     "metadata": {},
     "output_type": "execute_result"
    }
   ],
   "source": [
    "getting_first_non_zero_from_column(N, column = -1, starting_row = 2)"
   ]
  },
  {
   "cell_type": "code",
   "execution_count": null,
   "id": "30b6caa8",
   "metadata": {},
   "outputs": [],
   "source": []
  }
 ],
 "metadata": {
  "kernelspec": {
   "display_name": ".venv",
   "language": "python",
   "name": "python3"
  },
  "language_info": {
   "codemirror_mode": {
    "name": "ipython",
    "version": 3
   },
   "file_extension": ".py",
   "mimetype": "text/x-python",
   "name": "python",
   "nbconvert_exporter": "python",
   "pygments_lexer": "ipython3",
   "version": "3.13.5"
  }
 },
 "nbformat": 4,
 "nbformat_minor": 5
}
