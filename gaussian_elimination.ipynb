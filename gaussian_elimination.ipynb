{
 "cells": [
  {
   "cell_type": "code",
   "execution_count": 8,
   "id": "69d05152",
   "metadata": {},
   "outputs": [],
   "source": [
    "#importing neccesary libraries\n",
    "import numpy as np\n",
    "import pandas as pd\n"
   ]
  },
  {
   "cell_type": "code",
   "execution_count": null,
   "id": "c2efc108",
   "metadata": {},
   "outputs": [],
   "source": [
    "#creating a function that swaps different rows of matrix\n",
    "def swap_rows(M, row_index_1, row_index_2):\n",
    "    #copy the matrix\n",
    "    M = M.copy()\n",
    "    # swap indexes (you use a list of indexes to index rows in Numpy)\n",
    "    M[[row_index_1, row_index_2]] = M[[row_index_2, row_index_1]]\n",
    "    #return the swapped matrices\n",
    "    return M\n",
    "\n",
    "\n"
   ]
  },
  {
   "cell_type": "code",
   "execution_count": 9,
   "id": "d0f8df54",
   "metadata": {},
   "outputs": [
    {
     "name": "stdout",
     "output_type": "stream",
     "text": [
      "[[ 1  3  6]\n",
      " [ 0 -5  2]\n",
      " [-4  5  8]]\n"
     ]
    }
   ],
   "source": [
    "M = np.array([\n",
    "[1, 3, 6],\n",
    "[0, -5, 2],\n",
    "[-4, 5, 8]\n",
    "])\n",
    "print(M)"
   ]
  },
  {
   "cell_type": "code",
   "execution_count": 13,
   "id": "6a94fc82",
   "metadata": {},
   "outputs": [
    {
     "data": {
      "text/plain": [
       "array([[-4,  5,  8],\n",
       "       [ 0, -5,  2],\n",
       "       [ 1,  3,  6]])"
      ]
     },
     "execution_count": 13,
     "metadata": {},
     "output_type": "execute_result"
    }
   ],
   "source": [
    "swap_rows(M,0,2)"
   ]
  },
  {
   "cell_type": "code",
   "execution_count": null,
   "id": "88f82326",
   "metadata": {},
   "outputs": [],
   "source": []
  }
 ],
 "metadata": {
  "kernelspec": {
   "display_name": ".venv",
   "language": "python",
   "name": "python3"
  },
  "language_info": {
   "codemirror_mode": {
    "name": "ipython",
    "version": 3
   },
   "file_extension": ".py",
   "mimetype": "text/x-python",
   "name": "python",
   "nbconvert_exporter": "python",
   "pygments_lexer": "ipython3",
   "version": "3.13.5"
  }
 },
 "nbformat": 4,
 "nbformat_minor": 5
}
